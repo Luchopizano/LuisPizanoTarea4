{
 "metadata": {
  "name": "",
  "signature": "sha256:978d95a00a97f0e48620d7b996019b68b1e81e93825262d11f8a9199a0471878"
 },
 "nbformat": 3,
 "nbformat_minor": 0,
 "worksheets": [
  {
   "cells": [
    {
     "cell_type": "code",
     "collapsed": false,
     "input": [
      "%pylab inline"
     ],
     "language": "python",
     "metadata": {},
     "outputs": [
      {
       "output_type": "stream",
       "stream": "stdout",
       "text": [
        "Populating the interactive namespace from numpy and matplotlib\n"
       ]
      },
      {
       "output_type": "stream",
       "stream": "stderr",
       "text": [
        "WARNING: pylab import has clobbered these variables: ['sqrt', 'cholesky']\n",
        "`%matplotlib` prevents importing * from pylab and numpy\n"
       ]
      }
     ],
     "prompt_number": 109
    },
    {
     "cell_type": "code",
     "collapsed": false,
     "input": [
      "import numpy as np\n",
      "import math\n",
      "import sys\n",
      "from math import sqrt\n",
      "from pprint import pprint"
     ],
     "language": "python",
     "metadata": {},
     "outputs": [],
     "prompt_number": 110
    },
    {
     "cell_type": "code",
     "collapsed": false,
     "input": [
      "datos = np.loadtxt(\"test.dat\")\n",
      "y = datos[:,1]\n",
      "tt = datos[:,0]\n",
      "l = len(tt)\n",
      "\n",
      "#La matriz de coeficientes\n",
      "j=0\n",
      "t = np.zeros((l,3))\n",
      "while j<l:\n",
      "    t[j,0] = 1\n",
      "    t[j,1] =tt[j]\n",
      "    t[j,2] =(tt[j]**2)/2\n",
      "    j=j+1\n",
      "\n"
     ],
     "language": "python",
     "metadata": {},
     "outputs": [],
     "prompt_number": 111
    },
    {
     "cell_type": "code",
     "collapsed": false,
     "input": [
      "#Ahora se obtiene la transpuesta de los coeficientes\n",
      "k=0\n",
      "p=0\n",
      "l = len(tt)\n",
      "ttrans = np.zeros((t.shape[1],t.shape[0]))\n",
      "\n",
      "while p<l:\n",
      "    ttrans[0,p] = 1\n",
      "    ttrans[1,p] =tt[p]\n",
      "    ttrans[2,p] =(tt[p]**2)/2\n",
      "    p=p+1\n",
      "   \n",
      "#se aplica el producto punto de la original y la transpuesta    \n",
      "A=np.dot(ttrans,t)\n",
      "print(A)\n",
      "print(A.shape[0])"
     ],
     "language": "python",
     "metadata": {},
     "outputs": [
      {
       "output_type": "stream",
       "stream": "stdout",
       "text": [
        "[[  38.           76.          102.70270346]\n",
        " [  76.          205.40540692  312.21622076]\n",
        " [ 102.70270346  312.21622076  506.1765484 ]]\n",
        "3\n"
       ]
      }
     ],
     "prompt_number": 118
    },
    {
     "cell_type": "code",
     "collapsed": false,
     "input": [
      "def cholesky(A):\n",
      "    n = A.shape[0]\n",
      "\n",
      "    # Create zero matrix for L\n",
      "    L = [[0.0] * n for i in xrange(n)]\n",
      "\n",
      "    # Perform the Cholesky decomposition\n",
      "    for i in xrange(n):\n",
      "        for k in xrange(i+1):\n",
      "            tmp_sum = sum(L[i][j] * L[k][j] for j in xrange(k))\n",
      "            \n",
      "            if (i == k): # Diagonal elements\n",
      "                \n",
      "                L[i][k] = sqrt(A[i][i] - tmp_sum)\n",
      "            else:\n",
      "                \n",
      "                L[i][k] = (1.0 / L[k][k] * (A[i][k] - tmp_sum))\n",
      "    return L\n"
     ],
     "language": "python",
     "metadata": {},
     "outputs": [],
     "prompt_number": 119
    },
    {
     "cell_type": "code",
     "collapsed": false,
     "input": [
      "\n",
      "L=cholesky(A)\n",
      "print \"Cholesky:\"\n",
      "pprint(L)"
     ],
     "language": "python",
     "metadata": {},
     "outputs": [
      {
       "output_type": "stream",
       "stream": "stdout",
       "text": [
        "Cholesky:\n",
        "[[6.164414002968976, 0.0, 0.0],\n",
        " [12.328828005937954, 7.307900308496414, 0.0],\n",
        " [16.660578509165045, 14.61580061699283, 3.8704062405573656]]\n"
       ]
      }
     ],
     "prompt_number": 120
    },
    {
     "cell_type": "code",
     "collapsed": false,
     "input": [
      "#Se vuelve a aplicar la transpuesta pero esta vez a la matriz bajo Cholesky\n",
      "#Ahora se obtiene la transpuesta de los coeficientes\n",
      "LL=np.asarray(L)\n",
      "k=0\n",
      "p=0\n",
      "ff=(LL.shape[0])\n",
      "hh=LL.shape[1]\n",
      "\n",
      "choleskytrans = np.zeros((ff,hh))\n",
      "\n",
      "for k in range(0,ff):\n",
      "   for p in range(0,hh):\n",
      "       choleskytrans[p,k] = LL[k,p]\n",
      "\n",
      "#print(choleskytrans)\n",
      "P=np.dot(ttrans,y)\n"
     ],
     "language": "python",
     "metadata": {},
     "outputs": [],
     "prompt_number": 155
    },
    {
     "cell_type": "code",
     "collapsed": false,
     "input": [
      "#Para solucionar el sistema \n",
      "def bsubs(L,b):\n",
      "    n=L.shape[0]\n",
      "    x=np.zeros((1,n))\n",
      "    for k in range(n-1,-1,-1):\n",
      "        x[0,k]=b[k]\n",
      "        x[0,k]=x[0,k] - np.dot(L[k,k+1:n],x[0,k+1:n])\n",
      "        x[0,k]=x[0,k]/L[k,k]\n",
      "    return x\n"
     ],
     "language": "python",
     "metadata": {},
     "outputs": [],
     "prompt_number": 159
    },
    {
     "cell_type": "code",
     "collapsed": false,
     "input": [
      "#forward substitution\n",
      "def fsubs(L,b):       \n",
      "    n=L.shape[0]\n",
      "    x=np.zeros((1,n))\n",
      "    for k in range(0,n):\n",
      "        x[0,k]=b[k]\n",
      "        x[0,k] = x[0,k] - np.dot(L[k,0:k],x[0,0:k])\n",
      "        x[0,k] = x[0,k]/L[k,k]\n"
     ],
     "language": "python",
     "metadata": {},
     "outputs": [],
     "prompt_number": 184
    },
    {
     "cell_type": "code",
     "collapsed": false,
     "input": [
      "c=bsubs(LL,P)\n",
      "xxx=fsubs(choleskytrans,c)\n",
      "print(xxx)"
     ],
     "language": "python",
     "metadata": {},
     "outputs": [
      {
       "ename": "ValueError",
       "evalue": "setting an array element with a sequence.",
       "output_type": "pyerr",
       "traceback": [
        "\u001b[0;31m---------------------------------------------------------------------------\u001b[0m\n\u001b[0;31mValueError\u001b[0m                                Traceback (most recent call last)",
        "\u001b[0;32m<ipython-input-185-98ccd5db7208>\u001b[0m in \u001b[0;36m<module>\u001b[0;34m()\u001b[0m\n\u001b[1;32m      1\u001b[0m \u001b[0mc\u001b[0m\u001b[0;34m=\u001b[0m\u001b[0mbsubs\u001b[0m\u001b[0;34m(\u001b[0m\u001b[0mLL\u001b[0m\u001b[0;34m,\u001b[0m\u001b[0mP\u001b[0m\u001b[0;34m)\u001b[0m\u001b[0;34m\u001b[0m\u001b[0m\n\u001b[0;32m----> 2\u001b[0;31m \u001b[0mxxx\u001b[0m\u001b[0;34m=\u001b[0m\u001b[0mfsubs\u001b[0m\u001b[0;34m(\u001b[0m\u001b[0mcholeskytrans\u001b[0m\u001b[0;34m,\u001b[0m\u001b[0mc\u001b[0m\u001b[0;34m)\u001b[0m\u001b[0;34m\u001b[0m\u001b[0m\n\u001b[0m\u001b[1;32m      3\u001b[0m \u001b[0;32mprint\u001b[0m\u001b[0;34m(\u001b[0m\u001b[0mxxx\u001b[0m\u001b[0;34m)\u001b[0m\u001b[0;34m\u001b[0m\u001b[0m\n",
        "\u001b[0;32m<ipython-input-184-4004f56f1c8b>\u001b[0m in \u001b[0;36mfsubs\u001b[0;34m(L, b)\u001b[0m\n\u001b[1;32m      4\u001b[0m     \u001b[0mx\u001b[0m\u001b[0;34m=\u001b[0m\u001b[0mnp\u001b[0m\u001b[0;34m.\u001b[0m\u001b[0mzeros\u001b[0m\u001b[0;34m(\u001b[0m\u001b[0;34m(\u001b[0m\u001b[0;36m1\u001b[0m\u001b[0;34m,\u001b[0m\u001b[0mn\u001b[0m\u001b[0;34m)\u001b[0m\u001b[0;34m)\u001b[0m\u001b[0;34m\u001b[0m\u001b[0m\n\u001b[1;32m      5\u001b[0m     \u001b[0;32mfor\u001b[0m \u001b[0mk\u001b[0m \u001b[0;32min\u001b[0m \u001b[0mrange\u001b[0m\u001b[0;34m(\u001b[0m\u001b[0;36m0\u001b[0m\u001b[0;34m,\u001b[0m\u001b[0mn\u001b[0m\u001b[0;34m)\u001b[0m\u001b[0;34m:\u001b[0m\u001b[0;34m\u001b[0m\u001b[0m\n\u001b[0;32m----> 6\u001b[0;31m         \u001b[0mx\u001b[0m\u001b[0;34m[\u001b[0m\u001b[0;36m0\u001b[0m\u001b[0;34m,\u001b[0m\u001b[0mk\u001b[0m\u001b[0;34m]\u001b[0m\u001b[0;34m=\u001b[0m\u001b[0mb\u001b[0m\u001b[0;34m[\u001b[0m\u001b[0mk\u001b[0m\u001b[0;34m]\u001b[0m\u001b[0;34m\u001b[0m\u001b[0m\n\u001b[0m\u001b[1;32m      7\u001b[0m         \u001b[0mx\u001b[0m\u001b[0;34m[\u001b[0m\u001b[0;36m0\u001b[0m\u001b[0;34m,\u001b[0m\u001b[0mk\u001b[0m\u001b[0;34m]\u001b[0m \u001b[0;34m=\u001b[0m \u001b[0mx\u001b[0m\u001b[0;34m[\u001b[0m\u001b[0;36m0\u001b[0m\u001b[0;34m,\u001b[0m\u001b[0mk\u001b[0m\u001b[0;34m]\u001b[0m \u001b[0;34m-\u001b[0m \u001b[0mnp\u001b[0m\u001b[0;34m.\u001b[0m\u001b[0mdot\u001b[0m\u001b[0;34m(\u001b[0m\u001b[0mL\u001b[0m\u001b[0;34m[\u001b[0m\u001b[0mk\u001b[0m\u001b[0;34m,\u001b[0m\u001b[0;36m0\u001b[0m\u001b[0;34m:\u001b[0m\u001b[0mk\u001b[0m\u001b[0;34m]\u001b[0m\u001b[0;34m,\u001b[0m\u001b[0mx\u001b[0m\u001b[0;34m[\u001b[0m\u001b[0;36m0\u001b[0m\u001b[0;34m,\u001b[0m\u001b[0;36m0\u001b[0m\u001b[0;34m:\u001b[0m\u001b[0mk\u001b[0m\u001b[0;34m]\u001b[0m\u001b[0;34m)\u001b[0m\u001b[0;34m\u001b[0m\u001b[0m\n\u001b[1;32m      8\u001b[0m         \u001b[0mx\u001b[0m\u001b[0;34m[\u001b[0m\u001b[0;36m0\u001b[0m\u001b[0;34m,\u001b[0m\u001b[0mk\u001b[0m\u001b[0;34m]\u001b[0m \u001b[0;34m=\u001b[0m \u001b[0mx\u001b[0m\u001b[0;34m[\u001b[0m\u001b[0;36m0\u001b[0m\u001b[0;34m,\u001b[0m\u001b[0mk\u001b[0m\u001b[0;34m]\u001b[0m\u001b[0;34m/\u001b[0m\u001b[0mL\u001b[0m\u001b[0;34m[\u001b[0m\u001b[0mk\u001b[0m\u001b[0;34m,\u001b[0m\u001b[0mk\u001b[0m\u001b[0;34m]\u001b[0m\u001b[0;34m\u001b[0m\u001b[0m\n",
        "\u001b[0;31mValueError\u001b[0m: setting an array element with a sequence."
       ]
      }
     ],
     "prompt_number": 185
    },
    {
     "cell_type": "code",
     "collapsed": false,
     "input": [],
     "language": "python",
     "metadata": {},
     "outputs": []
    }
   ],
   "metadata": {}
  }
 ]
}